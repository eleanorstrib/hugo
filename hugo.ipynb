{
 "cells": [
  {
   "cell_type": "code",
   "execution_count": 10,
   "metadata": {
    "collapsed": false
   },
   "outputs": [],
   "source": [
    "from bs4 import BeautifulSoup as bsoup\n",
    "import csv\n",
    "import re\n",
    "import requests"
   ]
  },
  {
   "cell_type": "code",
   "execution_count": 59,
   "metadata": {
    "collapsed": false
   },
   "outputs": [
    {
     "name": "stdout",
     "output_type": "stream",
     "text": [
      "http://www.thehugoawards.org/hugo-history/1955-hugo-awards/\n"
     ]
    }
   ],
   "source": [
    "first_year = 1955\n",
    "last_year = 2018\n",
    "base_url = \"http://www.thehugoawards.org/hugo-history/%s-hugo-awards/\" % first_year\n",
    "print(base_url)\n",
    "#1985, 2004"
   ]
  },
  {
   "cell_type": "code",
   "execution_count": 60,
   "metadata": {
    "collapsed": true
   },
   "outputs": [],
   "source": [
    "def make_soup(url):\n",
    "    r = requests.get(url)\n",
    "    data = r.text #string with all html\n",
    "    soup = bsoup(data , \"lxml\")\n",
    "    return soup"
   ]
  },
  {
   "cell_type": "code",
   "execution_count": 61,
   "metadata": {
    "collapsed": true
   },
   "outputs": [],
   "source": [
    "def parse_text(w):\n",
    "    idx_by = w.find(' by ')\n",
    "    idx_round = w.find('(')\n",
    "    idx_square = w.find('[')\n",
    "    if idx_by != -1: \n",
    "        title = w[:idx_by].strip()\n",
    "        if idx_round != -1:\n",
    "            author = w[idx_by+4:idx_round-1].strip()\n",
    "        else:\n",
    "            author = w[idx_by+4:idx_square-1].strip()\n",
    "    else:\n",
    "        idx_comma = w.find(',')\n",
    "        title = w[:idx_comma].strip()\n",
    "        \n",
    "        if idx_round != -1:\n",
    "            author = w[idx_comma+1:idx_round-1].strip()\n",
    "        else:\n",
    "            author = w[idx_comma+1:idx_square-1].strip()\n",
    "\n",
    "    return title, author\n",
    "        "
   ]
  },
  {
   "cell_type": "code",
   "execution_count": 62,
   "metadata": {
    "collapsed": false
   },
   "outputs": [],
   "source": [
    "def get_data(first_year, last_year):\n",
    "    data_dict = {}\n",
    "    for i in range(first_year, last_year):\n",
    "        url = \"http://www.thehugoawards.org/hugo-history/%s-hugo-awards/\" % i\n",
    "        soup = make_soup(url)\n",
    "        winner = soup.find('li', attrs={'class': 'winner'}).text\n",
    "        title, author = parse_text(winner)\n",
    "        data_dict[i] = {'title': title,\n",
    "                        'author': author}\n",
    "        print(i, title, author)\n",
    "    return data_dict"
   ]
  },
  {
   "cell_type": "code",
   "execution_count": null,
   "metadata": {
    "collapsed": false
   },
   "outputs": [
    {
     "name": "stdout",
     "output_type": "stream",
     "text": [
      "1955 They’d Rather Be Right Mark Clifton and Frank Riley\n",
      "1956 Double Star Robert A. Heinlein\n",
      "1957 Astounding Science Fiction ed. John W. Campbell, J\n",
      "1958 The Big Time Fritz Leiber\n",
      "1959 A Case of Conscience James Blish\n",
      "1960 Starship Troopers (alt: Starship Soldier) \n",
      "1961 A Canticle for Leibowitz Walter M. Miller, Jr.\n",
      "1962 Stranger in a Strange Land Robert A. Heinlein\n",
      "1963 The Man in the High Castle Philip K. Dick\n",
      "1964 Here Gather the Stars (alt: Way Station) \n",
      "1965 The Wanderer Fritz Leiber\n",
      "1966 Dune Frank Herbert\n",
      "1967 The Moon is a Harsh Mistress Robert A. Heinlein\n",
      "1968 Lord of Light Roger Zelazny\n",
      "1969 Stand on Zanzibar John Brunner\n",
      "1970 The Left Hand of Darkness Ursula K. Le Guin\n",
      "1971 Ringworld Larry Niven\n"
     ]
    }
   ],
   "source": [
    "dict = get_data(first_year, last_year)\n",
    "print(dict)"
   ]
  },
  {
   "cell_type": "code",
   "execution_count": null,
   "metadata": {
    "collapsed": false
   },
   "outputs": [],
   "source": [
    "\n",
    "print(w)"
   ]
  },
  {
   "cell_type": "code",
   "execution_count": null,
   "metadata": {
    "collapsed": false
   },
   "outputs": [],
   "source": [
    "\n",
    "idx_by = w.find(' by ')\n",
    "idx_round = w.find('(')\n",
    "idx_square = w.find('[')\n",
    "\n",
    "title = w[:idx_by]\n",
    "\n",
    "if idx_round != -1:\n",
    "    author = w[idx_by+4:idx_round-1]\n",
    "else:\n",
    "    author = w[idx_by+4:idx_square-1]\n",
    "    \n",
    "print(title)\n",
    "print(author)\n",
    "print(w[idx_round], w[idx_square])"
   ]
  },
  {
   "cell_type": "code",
   "execution_count": null,
   "metadata": {
    "collapsed": false
   },
   "outputs": [],
   "source": [
    "w.split(\",\")\n",
    "# 1965 : ['The Wanderer by Fritz Leiber [Ballantine', ' 1964]']\n",
    "# 1988 : ['The Uplift War by David Brin [Phantasia', ' 1987; Bantam Spectra', ' 1987]']\n",
    "# 2003 : ['Hominids by Robert J. Sawyer [Analog Jan',\n",
    "#  'Feb',\n",
    "#  'Mar',\n",
    "#  'Apr 2002; Tor',\n",
    "#  ' 2002]']\n",
    "# ['The Obelisk Gate', ' by N. K. Jemisin (Orbit Books)']"
   ]
  },
  {
   "cell_type": "code",
   "execution_count": null,
   "metadata": {
    "collapsed": true
   },
   "outputs": [],
   "source": [
    "data_fields = ['Year', 'winning_novel', 'author']"
   ]
  }
 ],
 "metadata": {
  "kernelspec": {
   "display_name": "Python [conda root]",
   "language": "python",
   "name": "conda-root-py"
  },
  "language_info": {
   "codemirror_mode": {
    "name": "ipython",
    "version": 3
   },
   "file_extension": ".py",
   "mimetype": "text/x-python",
   "name": "python",
   "nbconvert_exporter": "python",
   "pygments_lexer": "ipython3",
   "version": "3.5.2"
  }
 },
 "nbformat": 4,
 "nbformat_minor": 2
}
